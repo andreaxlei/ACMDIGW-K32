{
  "nbformat": 4,
  "nbformat_minor": 0,
  "metadata": {
    "colab": {
      "provenance": [],
      "gpuType": "T4",
      "mount_file_id": "1UBER7fWOJiqGjzNZDLi-61_qM6HWznX8",
      "authorship_tag": "ABX9TyOprA5kjYbYJLNbMMoK1jTE",
      "include_colab_link": true
    },
    "kernelspec": {
      "name": "python3",
      "display_name": "Python 3"
    },
    "language_info": {
      "name": "python"
    },
    "accelerator": "GPU"
  },
  "cells": [
    {
      "cell_type": "markdown",
      "metadata": {
        "id": "view-in-github",
        "colab_type": "text"
      },
      "source": [
        "<a href=\"https://colab.research.google.com/github/andreaxlei/ACMDIGW-K32/blob/main/ACMDIGW_App_Tan%2C_Andrea_Lei_T.ipynb\" target=\"_parent\"><img src=\"https://colab.research.google.com/assets/colab-badge.svg\" alt=\"Open In Colab\"/></a>"
      ]
    },
    {
      "cell_type": "code",
      "source": [
        "#most common shortcut keys\n",
        "#ctrl + / = to comment a code\n",
        "#ctrl + enter = run a code block\n",
        "#ctrl + m, b = create a code block below\n",
        "#ctrl + m, a = create a code block above"
      ],
      "metadata": {
        "id": "UpkKjXjJ9rTt"
      },
      "execution_count": 11,
      "outputs": []
    },
    {
      "cell_type": "markdown",
      "source": [],
      "metadata": {
        "id": "yMsgnXku7U0o"
      }
    },
    {
      "cell_type": "code",
      "source": [
        "# connect gdrive\n",
        "from google.colab import drive\n",
        "drive.mount('/content/drive')"
      ],
      "metadata": {
        "colab": {
          "base_uri": "https://localhost:8080/"
        },
        "id": "wN9SeFN-9-Ik",
        "outputId": "b317dc40-31ec-4d93-8661-b6bbe60f19b4"
      },
      "execution_count": 12,
      "outputs": [
        {
          "output_type": "stream",
          "name": "stdout",
          "text": [
            "Drive already mounted at /content/drive; to attempt to forcibly remount, call drive.mount(\"/content/drive\", force_remount=True).\n"
          ]
        }
      ]
    },
    {
      "cell_type": "code",
      "source": [
        "# install yelpapi\n",
        "!pip install yelpapi"
      ],
      "metadata": {
        "colab": {
          "base_uri": "https://localhost:8080/"
        },
        "id": "OzDM67iV_cl-",
        "outputId": "d1ac440b-8699-4e65-c524-f2bebdd1ca8e"
      },
      "execution_count": 13,
      "outputs": [
        {
          "output_type": "stream",
          "name": "stdout",
          "text": [
            "Requirement already satisfied: yelpapi in /usr/local/lib/python3.10/dist-packages (2.5.1)\n",
            "Requirement already satisfied: requests in /usr/local/lib/python3.10/dist-packages (from yelpapi) (2.31.0)\n",
            "Requirement already satisfied: charset-normalizer<4,>=2 in /usr/local/lib/python3.10/dist-packages (from requests->yelpapi) (3.3.2)\n",
            "Requirement already satisfied: idna<4,>=2.5 in /usr/local/lib/python3.10/dist-packages (from requests->yelpapi) (3.6)\n",
            "Requirement already satisfied: urllib3<3,>=1.21.1 in /usr/local/lib/python3.10/dist-packages (from requests->yelpapi) (2.0.7)\n",
            "Requirement already satisfied: certifi>=2017.4.17 in /usr/local/lib/python3.10/dist-packages (from requests->yelpapi) (2024.2.2)\n"
          ]
        }
      ]
    },
    {
      "cell_type": "code",
      "source": [
        "#import libraries\n",
        "import pandas as pd\n",
        "import numpy as np\n",
        "import matplotlib.pyplot as plt\n",
        "import seaborn as sns\n",
        "\n",
        "# additonal libraries\n",
        "import os, json, math, time\n",
        "from yelpapi import YelpAPI\n",
        "from tqdm.notebook import tqdm_notebook"
      ],
      "metadata": {
        "id": "IGmXo3_tBYiQ"
      },
      "execution_count": 14,
      "outputs": []
    },
    {
      "cell_type": "markdown",
      "source": [
        "# Loading Credentials and Creating the YelpAPI object"
      ],
      "metadata": {
        "id": "Gogz0tZuB94x"
      }
    },
    {
      "cell_type": "code",
      "source": [
        "# load yelp API credentials and instantiate the YelpAPI object\n",
        "with open('/content/drive/MyDrive/Colab Notebooks/credentials/yelp_api.json') as file:\n",
        "  yelp_credentials = json.load(file)\n",
        "\n",
        "# create the yelp api engine\n",
        "yelp_api = YelpAPI(yelp_credentials['api-key'], timeout_s = 5.0)"
      ],
      "metadata": {
        "id": "pWRStl8tCJ02"
      },
      "execution_count": 16,
      "outputs": []
    },
    {
      "cell_type": "code",
      "source": [
        "# define API call parameters and output file path\n",
        "LOCATION = 'Greenville, SC'\n",
        "TERM = 'Sushi'\n",
        "JSON_FILE = '/Data/results_SC_sushi.json'\n",
        "\n",
        "# display the destination file path\n",
        "print(f'Data will be saved to: {JSON_FILE}')"
      ],
      "metadata": {
        "colab": {
          "base_uri": "https://localhost:8080/"
        },
        "id": "8kwQA3a2_1TL",
        "outputId": "d7bb8067-e9fc-448c-e1d3-6bc2b5b73818"
      },
      "execution_count": 17,
      "outputs": [
        {
          "output_type": "stream",
          "name": "stdout",
          "text": [
            "Data will be saved to: /Data/results_SC_sushi.json\n"
          ]
        }
      ]
    },
    {
      "cell_type": "code",
      "source": [
        "# check if JSON_FILE exists and create if it doesn't\n",
        "if not os.path.isfile(JSON_FILE):\n",
        "\n",
        "  # create the directory\n",
        "  os.makedirs(os.path.dirname(JSON_FILE), exist_ok = True)\n",
        "\n",
        "  # create and save an empty list on the file\n",
        "  print(f'[i] {JSON_FILE} not found. Saving empty list on file')\n",
        "  with open(JSON_FILE, 'w') as file:\n",
        "    json.dump([], file)\n",
        "\n",
        "else:\n",
        "  # inform the user if the file already exists\n",
        "  print(f'[i] {JSON_FILE} already exists.')"
      ],
      "metadata": {
        "colab": {
          "base_uri": "https://localhost:8080/"
        },
        "id": "yWbya5TzBNdk",
        "outputId": "2c6468ce-9256-49be-bc3d-86acde61d5e1"
      },
      "execution_count": 20,
      "outputs": [
        {
          "output_type": "stream",
          "name": "stdout",
          "text": [
            "[i] /Data/results_SC_sushi.json not found. Saving empty list on file\n"
          ]
        }
      ]
    },
    {
      "cell_type": "code",
      "source": [
        "# load previous results and set offset based on the number of results\n",
        "with open(JSON_FILE, 'r') as file:\n",
        "  previous_results = json.load(file)\n",
        "\n",
        "n_results = len(previous_results)\n",
        "\n",
        "print(f'{n_results} previous results found.;)')"
      ],
      "metadata": {
        "colab": {
          "base_uri": "https://localhost:8080/"
        },
        "id": "lPVQZzhLD4oh",
        "outputId": "aa777dd9-b297-4adb-b80c-70b5b9913b83"
      },
      "execution_count": 22,
      "outputs": [
        {
          "output_type": "stream",
          "name": "stdout",
          "text": [
            "0 previous results found.;)\n"
          ]
        }
      ]
    },
    {
      "cell_type": "code",
      "source": [
        "# make first API call\n",
        "results = yelp_api.search_query(location = LOCATION,\n",
        "                                term = TERM,\n",
        "                                offset = n_results)\n",
        "\n",
        "results.keys()"
      ],
      "metadata": {
        "colab": {
          "base_uri": "https://localhost:8080/"
        },
        "id": "EMURrzTzFg8W",
        "outputId": "44e9c7a4-b910-4b35-850c-1a81fb681bf3"
      },
      "execution_count": 23,
      "outputs": [
        {
          "output_type": "execute_result",
          "data": {
            "text/plain": [
              "dict_keys(['businesses', 'total', 'region'])"
            ]
          },
          "metadata": {},
          "execution_count": 23
        }
      ]
    },
    {
      "cell_type": "code",
      "source": [
        "# return how many results were found\n",
        "total_results = results['total']\n",
        "total_results"
      ],
      "metadata": {
        "colab": {
          "base_uri": "https://localhost:8080/"
        },
        "id": "Usgnk7DGGBVN",
        "outputId": "11a3066b-6acb-408a-fda9-5598e1fc1927"
      },
      "execution_count": 24,
      "outputs": [
        {
          "output_type": "execute_result",
          "data": {
            "text/plain": [
              "111"
            ]
          },
          "metadata": {},
          "execution_count": 24
        }
      ]
    },
    {
      "cell_type": "code",
      "source": [
        "business_data = results['businesses']\n",
        "\n",
        "# specify the filename where you want to save the data\n",
        "json_file_path = JSON_FILE\n",
        "\n",
        "# save the business data\n",
        "with open(json_file_path, 'w') as file:\n",
        "  json.dump(business_data, file, indent = 4)"
      ],
      "metadata": {
        "id": "FbtntJA_GccF"
      },
      "execution_count": 25,
      "outputs": []
    }
  ]
}