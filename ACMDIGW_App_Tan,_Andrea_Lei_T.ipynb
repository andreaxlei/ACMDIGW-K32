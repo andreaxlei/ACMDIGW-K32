{
  "nbformat": 4,
  "nbformat_minor": 0,
  "metadata": {
    "colab": {
      "provenance": [],
      "gpuType": "T4",
      "mount_file_id": "1UBER7fWOJiqGjzNZDLi-61_qM6HWznX8",
      "authorship_tag": "ABX9TyM7txdjlRXcR+hke1RfyCg0",
      "include_colab_link": true
    },
    "kernelspec": {
      "name": "python3",
      "display_name": "Python 3"
    },
    "language_info": {
      "name": "python"
    },
    "accelerator": "GPU",
    "widgets": {
      "application/vnd.jupyter.widget-state+json": {
        "2c991a1bc9214141becfc37d4c07d7d6": {
          "model_module": "@jupyter-widgets/controls",
          "model_name": "HBoxModel",
          "model_module_version": "1.5.0",
          "state": {
            "_dom_classes": [],
            "_model_module": "@jupyter-widgets/controls",
            "_model_module_version": "1.5.0",
            "_model_name": "HBoxModel",
            "_view_count": null,
            "_view_module": "@jupyter-widgets/controls",
            "_view_module_version": "1.5.0",
            "_view_name": "HBoxView",
            "box_style": "",
            "children": [
              "IPY_MODEL_84f4e64943de433fb0967ec2a54b1984",
              "IPY_MODEL_bb2648224e154f538b54808c3b0581a1",
              "IPY_MODEL_efa280b80d8d44f98ad908d1bf665b72"
            ],
            "layout": "IPY_MODEL_af5781f34b934767887af049c2c0aebd"
          }
        },
        "84f4e64943de433fb0967ec2a54b1984": {
          "model_module": "@jupyter-widgets/controls",
          "model_name": "HTMLModel",
          "model_module_version": "1.5.0",
          "state": {
            "_dom_classes": [],
            "_model_module": "@jupyter-widgets/controls",
            "_model_module_version": "1.5.0",
            "_model_name": "HTMLModel",
            "_view_count": null,
            "_view_module": "@jupyter-widgets/controls",
            "_view_module_version": "1.5.0",
            "_view_name": "HTMLView",
            "description": "",
            "description_tooltip": null,
            "layout": "IPY_MODEL_bf423f8799ab4d909b85c2659f3d27f0",
            "placeholder": "​",
            "style": "IPY_MODEL_7b587359d98344699c5fee21300e6d3f",
            "value": "100%"
          }
        },
        "bb2648224e154f538b54808c3b0581a1": {
          "model_module": "@jupyter-widgets/controls",
          "model_name": "FloatProgressModel",
          "model_module_version": "1.5.0",
          "state": {
            "_dom_classes": [],
            "_model_module": "@jupyter-widgets/controls",
            "_model_module_version": "1.5.0",
            "_model_name": "FloatProgressModel",
            "_view_count": null,
            "_view_module": "@jupyter-widgets/controls",
            "_view_module_version": "1.5.0",
            "_view_name": "ProgressView",
            "bar_style": "success",
            "description": "",
            "description_tooltip": null,
            "layout": "IPY_MODEL_3815f5c25bc443d0a1c3900efa45ac4c",
            "max": 111,
            "min": 0,
            "orientation": "horizontal",
            "style": "IPY_MODEL_140a6ade63e34fabb0cd4283fbe4de2f",
            "value": 111
          }
        },
        "efa280b80d8d44f98ad908d1bf665b72": {
          "model_module": "@jupyter-widgets/controls",
          "model_name": "HTMLModel",
          "model_module_version": "1.5.0",
          "state": {
            "_dom_classes": [],
            "_model_module": "@jupyter-widgets/controls",
            "_model_module_version": "1.5.0",
            "_model_name": "HTMLModel",
            "_view_count": null,
            "_view_module": "@jupyter-widgets/controls",
            "_view_module_version": "1.5.0",
            "_view_name": "HTMLView",
            "description": "",
            "description_tooltip": null,
            "layout": "IPY_MODEL_ed041ca31a8949d7a87682f147131a8e",
            "placeholder": "​",
            "style": "IPY_MODEL_4bac0501cbea4ee6a2a5b3c7bb2c5da9",
            "value": " 111/111 [00:54&lt;00:00,  2.01it/s]"
          }
        },
        "af5781f34b934767887af049c2c0aebd": {
          "model_module": "@jupyter-widgets/base",
          "model_name": "LayoutModel",
          "model_module_version": "1.2.0",
          "state": {
            "_model_module": "@jupyter-widgets/base",
            "_model_module_version": "1.2.0",
            "_model_name": "LayoutModel",
            "_view_count": null,
            "_view_module": "@jupyter-widgets/base",
            "_view_module_version": "1.2.0",
            "_view_name": "LayoutView",
            "align_content": null,
            "align_items": null,
            "align_self": null,
            "border": null,
            "bottom": null,
            "display": null,
            "flex": null,
            "flex_flow": null,
            "grid_area": null,
            "grid_auto_columns": null,
            "grid_auto_flow": null,
            "grid_auto_rows": null,
            "grid_column": null,
            "grid_gap": null,
            "grid_row": null,
            "grid_template_areas": null,
            "grid_template_columns": null,
            "grid_template_rows": null,
            "height": null,
            "justify_content": null,
            "justify_items": null,
            "left": null,
            "margin": null,
            "max_height": null,
            "max_width": null,
            "min_height": null,
            "min_width": null,
            "object_fit": null,
            "object_position": null,
            "order": null,
            "overflow": null,
            "overflow_x": null,
            "overflow_y": null,
            "padding": null,
            "right": null,
            "top": null,
            "visibility": null,
            "width": null
          }
        },
        "bf423f8799ab4d909b85c2659f3d27f0": {
          "model_module": "@jupyter-widgets/base",
          "model_name": "LayoutModel",
          "model_module_version": "1.2.0",
          "state": {
            "_model_module": "@jupyter-widgets/base",
            "_model_module_version": "1.2.0",
            "_model_name": "LayoutModel",
            "_view_count": null,
            "_view_module": "@jupyter-widgets/base",
            "_view_module_version": "1.2.0",
            "_view_name": "LayoutView",
            "align_content": null,
            "align_items": null,
            "align_self": null,
            "border": null,
            "bottom": null,
            "display": null,
            "flex": null,
            "flex_flow": null,
            "grid_area": null,
            "grid_auto_columns": null,
            "grid_auto_flow": null,
            "grid_auto_rows": null,
            "grid_column": null,
            "grid_gap": null,
            "grid_row": null,
            "grid_template_areas": null,
            "grid_template_columns": null,
            "grid_template_rows": null,
            "height": null,
            "justify_content": null,
            "justify_items": null,
            "left": null,
            "margin": null,
            "max_height": null,
            "max_width": null,
            "min_height": null,
            "min_width": null,
            "object_fit": null,
            "object_position": null,
            "order": null,
            "overflow": null,
            "overflow_x": null,
            "overflow_y": null,
            "padding": null,
            "right": null,
            "top": null,
            "visibility": null,
            "width": null
          }
        },
        "7b587359d98344699c5fee21300e6d3f": {
          "model_module": "@jupyter-widgets/controls",
          "model_name": "DescriptionStyleModel",
          "model_module_version": "1.5.0",
          "state": {
            "_model_module": "@jupyter-widgets/controls",
            "_model_module_version": "1.5.0",
            "_model_name": "DescriptionStyleModel",
            "_view_count": null,
            "_view_module": "@jupyter-widgets/base",
            "_view_module_version": "1.2.0",
            "_view_name": "StyleView",
            "description_width": ""
          }
        },
        "3815f5c25bc443d0a1c3900efa45ac4c": {
          "model_module": "@jupyter-widgets/base",
          "model_name": "LayoutModel",
          "model_module_version": "1.2.0",
          "state": {
            "_model_module": "@jupyter-widgets/base",
            "_model_module_version": "1.2.0",
            "_model_name": "LayoutModel",
            "_view_count": null,
            "_view_module": "@jupyter-widgets/base",
            "_view_module_version": "1.2.0",
            "_view_name": "LayoutView",
            "align_content": null,
            "align_items": null,
            "align_self": null,
            "border": null,
            "bottom": null,
            "display": null,
            "flex": null,
            "flex_flow": null,
            "grid_area": null,
            "grid_auto_columns": null,
            "grid_auto_flow": null,
            "grid_auto_rows": null,
            "grid_column": null,
            "grid_gap": null,
            "grid_row": null,
            "grid_template_areas": null,
            "grid_template_columns": null,
            "grid_template_rows": null,
            "height": null,
            "justify_content": null,
            "justify_items": null,
            "left": null,
            "margin": null,
            "max_height": null,
            "max_width": null,
            "min_height": null,
            "min_width": null,
            "object_fit": null,
            "object_position": null,
            "order": null,
            "overflow": null,
            "overflow_x": null,
            "overflow_y": null,
            "padding": null,
            "right": null,
            "top": null,
            "visibility": null,
            "width": null
          }
        },
        "140a6ade63e34fabb0cd4283fbe4de2f": {
          "model_module": "@jupyter-widgets/controls",
          "model_name": "ProgressStyleModel",
          "model_module_version": "1.5.0",
          "state": {
            "_model_module": "@jupyter-widgets/controls",
            "_model_module_version": "1.5.0",
            "_model_name": "ProgressStyleModel",
            "_view_count": null,
            "_view_module": "@jupyter-widgets/base",
            "_view_module_version": "1.2.0",
            "_view_name": "StyleView",
            "bar_color": null,
            "description_width": ""
          }
        },
        "ed041ca31a8949d7a87682f147131a8e": {
          "model_module": "@jupyter-widgets/base",
          "model_name": "LayoutModel",
          "model_module_version": "1.2.0",
          "state": {
            "_model_module": "@jupyter-widgets/base",
            "_model_module_version": "1.2.0",
            "_model_name": "LayoutModel",
            "_view_count": null,
            "_view_module": "@jupyter-widgets/base",
            "_view_module_version": "1.2.0",
            "_view_name": "LayoutView",
            "align_content": null,
            "align_items": null,
            "align_self": null,
            "border": null,
            "bottom": null,
            "display": null,
            "flex": null,
            "flex_flow": null,
            "grid_area": null,
            "grid_auto_columns": null,
            "grid_auto_flow": null,
            "grid_auto_rows": null,
            "grid_column": null,
            "grid_gap": null,
            "grid_row": null,
            "grid_template_areas": null,
            "grid_template_columns": null,
            "grid_template_rows": null,
            "height": null,
            "justify_content": null,
            "justify_items": null,
            "left": null,
            "margin": null,
            "max_height": null,
            "max_width": null,
            "min_height": null,
            "min_width": null,
            "object_fit": null,
            "object_position": null,
            "order": null,
            "overflow": null,
            "overflow_x": null,
            "overflow_y": null,
            "padding": null,
            "right": null,
            "top": null,
            "visibility": null,
            "width": null
          }
        },
        "4bac0501cbea4ee6a2a5b3c7bb2c5da9": {
          "model_module": "@jupyter-widgets/controls",
          "model_name": "DescriptionStyleModel",
          "model_module_version": "1.5.0",
          "state": {
            "_model_module": "@jupyter-widgets/controls",
            "_model_module_version": "1.5.0",
            "_model_name": "DescriptionStyleModel",
            "_view_count": null,
            "_view_module": "@jupyter-widgets/base",
            "_view_module_version": "1.2.0",
            "_view_name": "StyleView",
            "description_width": ""
          }
        }
      }
    }
  },
  "cells": [
    {
      "cell_type": "markdown",
      "metadata": {
        "id": "view-in-github",
        "colab_type": "text"
      },
      "source": [
        "<a href=\"https://colab.research.google.com/github/andreaxlei/ACMDIGW-K32/blob/main/ACMDIGW_App_Tan%2C_Andrea_Lei_T.ipynb\" target=\"_parent\"><img src=\"https://colab.research.google.com/assets/colab-badge.svg\" alt=\"Open In Colab\"/></a>"
      ]
    },
    {
      "cell_type": "code",
      "source": [
        "#most common shortcut keys\n",
        "#ctrl + / = to comment a code\n",
        "#ctrl + enter = run a code block\n",
        "#ctrl + m, b = create a code block below\n",
        "#ctrl + m, a = create a code block above"
      ],
      "metadata": {
        "id": "UpkKjXjJ9rTt"
      },
      "execution_count": 1,
      "outputs": []
    },
    {
      "cell_type": "markdown",
      "source": [],
      "metadata": {
        "id": "yMsgnXku7U0o"
      }
    },
    {
      "cell_type": "code",
      "source": [
        "# connect gdrive\n",
        "from google.colab import drive\n",
        "drive.mount('/content/drive')"
      ],
      "metadata": {
        "colab": {
          "base_uri": "https://localhost:8080/"
        },
        "id": "wN9SeFN-9-Ik",
        "outputId": "fef23af2-cfb1-462c-b364-0053b626664a"
      },
      "execution_count": 2,
      "outputs": [
        {
          "output_type": "stream",
          "name": "stdout",
          "text": [
            "Drive already mounted at /content/drive; to attempt to forcibly remount, call drive.mount(\"/content/drive\", force_remount=True).\n"
          ]
        }
      ]
    },
    {
      "cell_type": "code",
      "source": [
        "# install yelpapi\n",
        "!pip install yelpapi"
      ],
      "metadata": {
        "colab": {
          "base_uri": "https://localhost:8080/"
        },
        "id": "OzDM67iV_cl-",
        "outputId": "3e5dea35-a05c-49bc-dfe6-cb818ceb615d"
      },
      "execution_count": 3,
      "outputs": [
        {
          "output_type": "stream",
          "name": "stdout",
          "text": [
            "Collecting yelpapi\n",
            "  Downloading yelpapi-2.5.1-py3-none-any.whl (7.4 kB)\n",
            "Requirement already satisfied: requests in /usr/local/lib/python3.10/dist-packages (from yelpapi) (2.31.0)\n",
            "Requirement already satisfied: charset-normalizer<4,>=2 in /usr/local/lib/python3.10/dist-packages (from requests->yelpapi) (3.3.2)\n",
            "Requirement already satisfied: idna<4,>=2.5 in /usr/local/lib/python3.10/dist-packages (from requests->yelpapi) (3.6)\n",
            "Requirement already satisfied: urllib3<3,>=1.21.1 in /usr/local/lib/python3.10/dist-packages (from requests->yelpapi) (2.0.7)\n",
            "Requirement already satisfied: certifi>=2017.4.17 in /usr/local/lib/python3.10/dist-packages (from requests->yelpapi) (2024.2.2)\n",
            "Installing collected packages: yelpapi\n",
            "Successfully installed yelpapi-2.5.1\n"
          ]
        }
      ]
    },
    {
      "cell_type": "code",
      "source": [
        "#import libraries\n",
        "import pandas as pd\n",
        "import numpy as np\n",
        "import matplotlib.pyplot as plt\n",
        "import seaborn as sns\n",
        "\n",
        "# additonal libraries\n",
        "import os, json, math, time\n",
        "from yelpapi import YelpAPI\n",
        "from tqdm.notebook import tqdm_notebook"
      ],
      "metadata": {
        "id": "IGmXo3_tBYiQ"
      },
      "execution_count": 13,
      "outputs": []
    },
    {
      "cell_type": "markdown",
      "source": [
        "# Loading Credentials and Creating the YelpAPI object"
      ],
      "metadata": {
        "id": "Gogz0tZuB94x"
      }
    },
    {
      "cell_type": "code",
      "source": [
        "# load yelp API credentials and instantiate the YelpAPI object\n",
        "with open('/content/drive/MyDrive/Colab Notebooks/credentials/yelp_api.json') as file:\n",
        "  yelp_credentials = json.load(file)\n",
        "\n",
        "# create the yelp api engine\n",
        "yelp_api = YelpAPI(yelp_credentials['api-key'], timeout_s = 5.0)"
      ],
      "metadata": {
        "id": "pWRStl8tCJ02"
      },
      "execution_count": 14,
      "outputs": []
    },
    {
      "cell_type": "code",
      "source": [
        "# define API call parameters and output file path\n",
        "LOCATION = 'Greenville, SC'\n",
        "TERM = 'Sushi'\n",
        "JSON_FILE = '/Data/results_SC_sushi.json'\n",
        "\n",
        "# display the destination file path\n",
        "print(f'Data will be saved to: {JSON_FILE}')"
      ],
      "metadata": {
        "colab": {
          "base_uri": "https://localhost:8080/"
        },
        "id": "8kwQA3a2_1TL",
        "outputId": "e3d0af67-ef7f-405f-859c-c58371115d79"
      },
      "execution_count": 15,
      "outputs": [
        {
          "output_type": "stream",
          "name": "stdout",
          "text": [
            "Data will be saved to: /Data/results_SC_sushi.json\n"
          ]
        }
      ]
    },
    {
      "cell_type": "code",
      "source": [
        "# check if JSON_FILE exists and create if it doesn't\n",
        "if not os.path.isfile(JSON_FILE):\n",
        "\n",
        "  # create the directory\n",
        "  os.makedirs(os.path.dirname(JSON_FILE), exist_ok = True)\n",
        "\n",
        "  # create and save an empty list on the file\n",
        "  print(f'[i] {JSON_FILE} not found. Saving empty list on file')\n",
        "  with open(JSON_FILE, 'w') as file:\n",
        "    json.dump([], file)\n",
        "\n",
        "else:\n",
        "  # inform the user if the file already exists\n",
        "  print(f'[i] {JSON_FILE} already exists.')"
      ],
      "metadata": {
        "colab": {
          "base_uri": "https://localhost:8080/"
        },
        "id": "yWbya5TzBNdk",
        "outputId": "73448f24-9931-44be-daf8-bb1927b2f82c"
      },
      "execution_count": 16,
      "outputs": [
        {
          "output_type": "stream",
          "name": "stdout",
          "text": [
            "[i] /Data/results_SC_sushi.json already exists.\n"
          ]
        }
      ]
    },
    {
      "cell_type": "code",
      "source": [
        "# load previous results and set offset based on the number of results\n",
        "with open(JSON_FILE, 'r') as file:\n",
        "  previous_results = json.load(file)\n",
        "\n",
        "n_results = len(previous_results)\n",
        "\n",
        "print(f'{n_results} previous results found.;)')"
      ],
      "metadata": {
        "colab": {
          "base_uri": "https://localhost:8080/"
        },
        "id": "lPVQZzhLD4oh",
        "outputId": "48e2b415-4479-473e-f010-9731aa2aa24c"
      },
      "execution_count": 21,
      "outputs": [
        {
          "output_type": "stream",
          "name": "stdout",
          "text": [
            "20 previous results found.;)\n"
          ]
        }
      ]
    },
    {
      "cell_type": "code",
      "source": [
        "# make first API call\n",
        "results = yelp_api.search_query(location = LOCATION,\n",
        "                                term = TERM,\n",
        "                                offset = n_results)\n",
        "\n",
        "results.keys()"
      ],
      "metadata": {
        "colab": {
          "base_uri": "https://localhost:8080/"
        },
        "id": "EMURrzTzFg8W",
        "outputId": "e9874698-26e1-4284-d060-544a9cd9b155"
      },
      "execution_count": 18,
      "outputs": [
        {
          "output_type": "execute_result",
          "data": {
            "text/plain": [
              "dict_keys(['businesses', 'total', 'region'])"
            ]
          },
          "metadata": {},
          "execution_count": 18
        }
      ]
    },
    {
      "cell_type": "code",
      "source": [
        "# return how many results were found\n",
        "total_results = results['total']\n",
        "total_results"
      ],
      "metadata": {
        "colab": {
          "base_uri": "https://localhost:8080/"
        },
        "id": "Usgnk7DGGBVN",
        "outputId": "d49af547-1a57-41c7-b64e-05434578a1a3"
      },
      "execution_count": 19,
      "outputs": [
        {
          "output_type": "execute_result",
          "data": {
            "text/plain": [
              "111"
            ]
          },
          "metadata": {},
          "execution_count": 19
        }
      ]
    },
    {
      "cell_type": "code",
      "source": [
        "business_results = results['businesses']\n",
        "\n",
        "# specify the filename where you want to save the data\n",
        "json_file_path = JSON_FILE\n",
        "\n",
        "# save the business data as a JSON file\n",
        "with open(json_file_path, 'w') as file:\n",
        "  json.dump(business_results, file, indent = 4)"
      ],
      "metadata": {
        "id": "FbtntJA_GccF"
      },
      "execution_count": 23,
      "outputs": []
    },
    {
      "cell_type": "code",
      "source": [
        "# indent = 4 means\n",
        "# save the data in this format\n",
        "# key: value,\n",
        "# key: value,\n",
        "# key: value,\n",
        "# key: value\n",
        "# kasi sabi ko = 4\n",
        "\n",
        "# otherwise, withought indent = 4, it will look like:\n",
        "# key: value,# key: value,# key: value,# key: value"
      ],
      "metadata": {
        "id": "gNHYTP1MAYaP"
      },
      "execution_count": 24,
      "outputs": []
    },
    {
      "cell_type": "code",
      "source": [
        "# how many details did we get?\n",
        "results_per_page = len(business_results)\n",
        "# business_data was replaced with business_results\n",
        "print(f'number of results retrieved per page',results_per_page)"
      ],
      "metadata": {
        "colab": {
          "base_uri": "https://localhost:8080/"
        },
        "id": "DgGvjzmbAqdB",
        "outputId": "a2666834-a26d-4305-b6a7-a461a2df7f40"
      },
      "execution_count": 25,
      "outputs": [
        {
          "output_type": "stream",
          "name": "stdout",
          "text": [
            "number of results retrieved per page 20\n"
          ]
        }
      ]
    },
    {
      "cell_type": "code",
      "source": [
        "# using the math.ciel to round up the total number of pages\n",
        "n_pages = math.ceil(total_results/results_per_page)\n",
        "print(f'total number of pages: {n_pages}')"
      ],
      "metadata": {
        "colab": {
          "base_uri": "https://localhost:8080/"
        },
        "id": "f03AP4ZwBQpC",
        "outputId": "85d55b09-52b4-4b45-aa22-bc37518c8c2a"
      },
      "execution_count": 26,
      "outputs": [
        {
          "output_type": "stream",
          "name": "stdout",
          "text": [
            "total number of pages: 6\n"
          ]
        }
      ]
    },
    {
      "cell_type": "code",
      "source": [
        "# create a loop to extract the data\n",
        "for i in tqdm_notebook(range(1, total_results + 1)):\n",
        "  try:\n",
        "    time.sleep(0.2) # short delay to respect API rate limits\n",
        "    # so that when we call, pause, call pause, it doesn't think we're attacking it\n",
        "\n",
        "    # load existing results to append new data\n",
        "    with open(JSON_FILE, 'r') as file:\n",
        "      previous_results = json.load(file)\n",
        "\n",
        "    # fetch new results\n",
        "    new_results = yelp_api.search_query(location = LOCATION,\n",
        "                                        term = TERM,\n",
        "                                        offset = len(previous_results))\n",
        "\n",
        "    # append and save the updated results\n",
        "    updated_results = previous_results + new_results['businesses']\n",
        "    with open(JSON_FILE, 'w') as file:\n",
        "      json.dump(updated_results, file)\n",
        "\n",
        "  except Exception as e:\n",
        "    if 'Too Many Requests for url' in str(e):\n",
        "      # if you see 'Too Many Requests for url', use:\n",
        "      print('Rate limit exceeded. Stopping data collection')\n",
        "      break # exit the loop if the rate limit is exceeded\n",
        "\n",
        "    else: # if there is an error, print it and continue if able\n",
        "      print(f'An error occured; {e}')\n",
        "      continue # continue to the next iteration in case of other errors"
      ],
      "metadata": {
        "colab": {
          "base_uri": "https://localhost:8080/",
          "height": 49,
          "referenced_widgets": [
            "2c991a1bc9214141becfc37d4c07d7d6",
            "84f4e64943de433fb0967ec2a54b1984",
            "bb2648224e154f538b54808c3b0581a1",
            "efa280b80d8d44f98ad908d1bf665b72",
            "af5781f34b934767887af049c2c0aebd",
            "bf423f8799ab4d909b85c2659f3d27f0",
            "7b587359d98344699c5fee21300e6d3f",
            "3815f5c25bc443d0a1c3900efa45ac4c",
            "140a6ade63e34fabb0cd4283fbe4de2f",
            "ed041ca31a8949d7a87682f147131a8e",
            "4bac0501cbea4ee6a2a5b3c7bb2c5da9"
          ]
        },
        "id": "Rg2LxNs3Bpue",
        "outputId": "a07bdf50-ab83-49ed-8134-1a0f226de98f"
      },
      "execution_count": 32,
      "outputs": [
        {
          "output_type": "display_data",
          "data": {
            "text/plain": [
              "  0%|          | 0/111 [00:00<?, ?it/s]"
            ],
            "application/vnd.jupyter.widget-view+json": {
              "version_major": 2,
              "version_minor": 0,
              "model_id": "2c991a1bc9214141becfc37d4c07d7d6"
            }
          },
          "metadata": {}
        }
      ]
    },
    {
      "cell_type": "markdown",
      "source": [
        "# Open the final JSON file with Pandas"
      ],
      "metadata": {
        "id": "-coSXWQyFxq0"
      }
    },
    {
      "cell_type": "code",
      "source": [
        "# load the final JSON file\n",
        "df = pd.read_json(JSON_FILE)\n",
        "\n",
        "# display the first 5 rows of the data\n",
        "df.head()"
      ],
      "metadata": {
        "colab": {
          "base_uri": "https://localhost:8080/",
          "height": 591
        },
        "id": "RJ3iTMErF-K5",
        "outputId": "2b59da66-15f9-4db0-ca5d-3f9337baa981"
      },
      "execution_count": 33,
      "outputs": [
        {
          "output_type": "execute_result",
          "data": {
            "text/plain": [
              "                       id                                            alias  \\\n",
              "0  HlMRxvnD7jC6uMUYZCsDCg  tsunami-japanese-sushi-bar-and-grill-greenville   \n",
              "1  SslytQ5fGcY7DN5a5vRi5A                          hibachi-cafe-greenville   \n",
              "2  0NNl-TjwwDkRl0oAZK4p3A                             sushi-asa-greenville   \n",
              "3  pCpt-b8_ashf7-lVwO8uBQ           zen-ramen-and-sushi-burrito-greenville   \n",
              "4  vILtQZOAP_LqkV_BB4e0cQ              chef-21-sushi-burger-simpsonville-2   \n",
              "\n",
              "                                   name  \\\n",
              "0  Tsunami Japanese Sushi Bar and Grill   \n",
              "1                          Hibachi Cafe   \n",
              "2                             Sushi Asa   \n",
              "3           Zen Ramen and Sushi Burrito   \n",
              "4                  Chef 21 Sushi Burger   \n",
              "\n",
              "                                           image_url  is_closed  \\\n",
              "0  https://s3-media1.fl.yelpcdn.com/bphoto/w5Q5tO...      False   \n",
              "1  https://s3-media1.fl.yelpcdn.com/bphoto/AYwmKG...      False   \n",
              "2  https://s3-media1.fl.yelpcdn.com/bphoto/xEYZ7_...      False   \n",
              "3  https://s3-media1.fl.yelpcdn.com/bphoto/yXFBCq...      False   \n",
              "4  https://s3-media2.fl.yelpcdn.com/bphoto/XJDcDW...      False   \n",
              "\n",
              "                                                 url  review_count  \\\n",
              "0  https://www.yelp.com/biz/tsunami-japanese-sush...           139   \n",
              "1  https://www.yelp.com/biz/hibachi-cafe-greenvil...            81   \n",
              "2  https://www.yelp.com/biz/sushi-asa-greenville?...           145   \n",
              "3  https://www.yelp.com/biz/zen-ramen-and-sushi-b...            45   \n",
              "4  https://www.yelp.com/biz/chef-21-sushi-burger-...            90   \n",
              "\n",
              "                                          categories  rating  \\\n",
              "0  [{'alias': 'japanese', 'title': 'Japanese'}, {...     3.5   \n",
              "1  [{'alias': 'japanese', 'title': 'Japanese'}, {...     4.0   \n",
              "2        [{'alias': 'sushi', 'title': 'Sushi Bars'}]     4.2   \n",
              "3  [{'alias': 'sushi', 'title': 'Sushi Bars'}, {'...     4.4   \n",
              "4  [{'alias': 'sushi', 'title': 'Sushi Bars'}, {'...     4.3   \n",
              "\n",
              "                                         coordinates        transactions  \\\n",
              "0     {'latitude': 34.85197, 'longitude': -82.39704}  [pickup, delivery]   \n",
              "1  {'latitude': 34.8211089, 'longitude': -82.3403...  [pickup, delivery]   \n",
              "2  {'latitude': 34.8171189, 'longitude': -82.2755...  [pickup, delivery]   \n",
              "3  {'latitude': 34.8207592, 'longitude': -82.2636...          [delivery]   \n",
              "4  {'latitude': 34.70605268375681, 'longitude': -...  [pickup, delivery]   \n",
              "\n",
              "  price                                           location         phone  \\\n",
              "0    $$  {'address1': '106 E North St', 'address2': '',...  +18644671055   \n",
              "1    $$  {'address1': '101 Verdae Blvd', 'address2': 'S...  +18642888595   \n",
              "2    $$  {'address1': '150 Tanner Rd', 'address2': None...  +18642885259   \n",
              "3   NaN  {'address1': '1939-B Woodruff Rd', 'address2':...  +18646094066   \n",
              "4   NaN  {'address1': '699 Fairview Rd', 'address2': 'S...  +18646882198   \n",
              "\n",
              "    display_phone      distance  \n",
              "0  (864) 467-1055   3635.170753  \n",
              "1  (864) 288-8595   3341.398427  \n",
              "2  (864) 288-5259   8392.529884  \n",
              "3  (864) 609-4066   9082.998384  \n",
              "4  (864) 688-2198  18283.027592  "
            ],
            "text/html": [
              "\n",
              "  <div id=\"df-2de7230c-baa2-4208-befb-004203774605\" class=\"colab-df-container\">\n",
              "    <div>\n",
              "<style scoped>\n",
              "    .dataframe tbody tr th:only-of-type {\n",
              "        vertical-align: middle;\n",
              "    }\n",
              "\n",
              "    .dataframe tbody tr th {\n",
              "        vertical-align: top;\n",
              "    }\n",
              "\n",
              "    .dataframe thead th {\n",
              "        text-align: right;\n",
              "    }\n",
              "</style>\n",
              "<table border=\"1\" class=\"dataframe\">\n",
              "  <thead>\n",
              "    <tr style=\"text-align: right;\">\n",
              "      <th></th>\n",
              "      <th>id</th>\n",
              "      <th>alias</th>\n",
              "      <th>name</th>\n",
              "      <th>image_url</th>\n",
              "      <th>is_closed</th>\n",
              "      <th>url</th>\n",
              "      <th>review_count</th>\n",
              "      <th>categories</th>\n",
              "      <th>rating</th>\n",
              "      <th>coordinates</th>\n",
              "      <th>transactions</th>\n",
              "      <th>price</th>\n",
              "      <th>location</th>\n",
              "      <th>phone</th>\n",
              "      <th>display_phone</th>\n",
              "      <th>distance</th>\n",
              "    </tr>\n",
              "  </thead>\n",
              "  <tbody>\n",
              "    <tr>\n",
              "      <th>0</th>\n",
              "      <td>HlMRxvnD7jC6uMUYZCsDCg</td>\n",
              "      <td>tsunami-japanese-sushi-bar-and-grill-greenville</td>\n",
              "      <td>Tsunami Japanese Sushi Bar and Grill</td>\n",
              "      <td>https://s3-media1.fl.yelpcdn.com/bphoto/w5Q5tO...</td>\n",
              "      <td>False</td>\n",
              "      <td>https://www.yelp.com/biz/tsunami-japanese-sush...</td>\n",
              "      <td>139</td>\n",
              "      <td>[{'alias': 'japanese', 'title': 'Japanese'}, {...</td>\n",
              "      <td>3.5</td>\n",
              "      <td>{'latitude': 34.85197, 'longitude': -82.39704}</td>\n",
              "      <td>[pickup, delivery]</td>\n",
              "      <td>$$</td>\n",
              "      <td>{'address1': '106 E North St', 'address2': '',...</td>\n",
              "      <td>+18644671055</td>\n",
              "      <td>(864) 467-1055</td>\n",
              "      <td>3635.170753</td>\n",
              "    </tr>\n",
              "    <tr>\n",
              "      <th>1</th>\n",
              "      <td>SslytQ5fGcY7DN5a5vRi5A</td>\n",
              "      <td>hibachi-cafe-greenville</td>\n",
              "      <td>Hibachi Cafe</td>\n",
              "      <td>https://s3-media1.fl.yelpcdn.com/bphoto/AYwmKG...</td>\n",
              "      <td>False</td>\n",
              "      <td>https://www.yelp.com/biz/hibachi-cafe-greenvil...</td>\n",
              "      <td>81</td>\n",
              "      <td>[{'alias': 'japanese', 'title': 'Japanese'}, {...</td>\n",
              "      <td>4.0</td>\n",
              "      <td>{'latitude': 34.8211089, 'longitude': -82.3403...</td>\n",
              "      <td>[pickup, delivery]</td>\n",
              "      <td>$$</td>\n",
              "      <td>{'address1': '101 Verdae Blvd', 'address2': 'S...</td>\n",
              "      <td>+18642888595</td>\n",
              "      <td>(864) 288-8595</td>\n",
              "      <td>3341.398427</td>\n",
              "    </tr>\n",
              "    <tr>\n",
              "      <th>2</th>\n",
              "      <td>0NNl-TjwwDkRl0oAZK4p3A</td>\n",
              "      <td>sushi-asa-greenville</td>\n",
              "      <td>Sushi Asa</td>\n",
              "      <td>https://s3-media1.fl.yelpcdn.com/bphoto/xEYZ7_...</td>\n",
              "      <td>False</td>\n",
              "      <td>https://www.yelp.com/biz/sushi-asa-greenville?...</td>\n",
              "      <td>145</td>\n",
              "      <td>[{'alias': 'sushi', 'title': 'Sushi Bars'}]</td>\n",
              "      <td>4.2</td>\n",
              "      <td>{'latitude': 34.8171189, 'longitude': -82.2755...</td>\n",
              "      <td>[pickup, delivery]</td>\n",
              "      <td>$$</td>\n",
              "      <td>{'address1': '150 Tanner Rd', 'address2': None...</td>\n",
              "      <td>+18642885259</td>\n",
              "      <td>(864) 288-5259</td>\n",
              "      <td>8392.529884</td>\n",
              "    </tr>\n",
              "    <tr>\n",
              "      <th>3</th>\n",
              "      <td>pCpt-b8_ashf7-lVwO8uBQ</td>\n",
              "      <td>zen-ramen-and-sushi-burrito-greenville</td>\n",
              "      <td>Zen Ramen and Sushi Burrito</td>\n",
              "      <td>https://s3-media1.fl.yelpcdn.com/bphoto/yXFBCq...</td>\n",
              "      <td>False</td>\n",
              "      <td>https://www.yelp.com/biz/zen-ramen-and-sushi-b...</td>\n",
              "      <td>45</td>\n",
              "      <td>[{'alias': 'sushi', 'title': 'Sushi Bars'}, {'...</td>\n",
              "      <td>4.4</td>\n",
              "      <td>{'latitude': 34.8207592, 'longitude': -82.2636...</td>\n",
              "      <td>[delivery]</td>\n",
              "      <td>NaN</td>\n",
              "      <td>{'address1': '1939-B Woodruff Rd', 'address2':...</td>\n",
              "      <td>+18646094066</td>\n",
              "      <td>(864) 609-4066</td>\n",
              "      <td>9082.998384</td>\n",
              "    </tr>\n",
              "    <tr>\n",
              "      <th>4</th>\n",
              "      <td>vILtQZOAP_LqkV_BB4e0cQ</td>\n",
              "      <td>chef-21-sushi-burger-simpsonville-2</td>\n",
              "      <td>Chef 21 Sushi Burger</td>\n",
              "      <td>https://s3-media2.fl.yelpcdn.com/bphoto/XJDcDW...</td>\n",
              "      <td>False</td>\n",
              "      <td>https://www.yelp.com/biz/chef-21-sushi-burger-...</td>\n",
              "      <td>90</td>\n",
              "      <td>[{'alias': 'sushi', 'title': 'Sushi Bars'}, {'...</td>\n",
              "      <td>4.3</td>\n",
              "      <td>{'latitude': 34.70605268375681, 'longitude': -...</td>\n",
              "      <td>[pickup, delivery]</td>\n",
              "      <td>NaN</td>\n",
              "      <td>{'address1': '699 Fairview Rd', 'address2': 'S...</td>\n",
              "      <td>+18646882198</td>\n",
              "      <td>(864) 688-2198</td>\n",
              "      <td>18283.027592</td>\n",
              "    </tr>\n",
              "  </tbody>\n",
              "</table>\n",
              "</div>\n",
              "    <div class=\"colab-df-buttons\">\n",
              "\n",
              "  <div class=\"colab-df-container\">\n",
              "    <button class=\"colab-df-convert\" onclick=\"convertToInteractive('df-2de7230c-baa2-4208-befb-004203774605')\"\n",
              "            title=\"Convert this dataframe to an interactive table.\"\n",
              "            style=\"display:none;\">\n",
              "\n",
              "  <svg xmlns=\"http://www.w3.org/2000/svg\" height=\"24px\" viewBox=\"0 -960 960 960\">\n",
              "    <path d=\"M120-120v-720h720v720H120Zm60-500h600v-160H180v160Zm220 220h160v-160H400v160Zm0 220h160v-160H400v160ZM180-400h160v-160H180v160Zm440 0h160v-160H620v160ZM180-180h160v-160H180v160Zm440 0h160v-160H620v160Z\"/>\n",
              "  </svg>\n",
              "    </button>\n",
              "\n",
              "  <style>\n",
              "    .colab-df-container {\n",
              "      display:flex;\n",
              "      gap: 12px;\n",
              "    }\n",
              "\n",
              "    .colab-df-convert {\n",
              "      background-color: #E8F0FE;\n",
              "      border: none;\n",
              "      border-radius: 50%;\n",
              "      cursor: pointer;\n",
              "      display: none;\n",
              "      fill: #1967D2;\n",
              "      height: 32px;\n",
              "      padding: 0 0 0 0;\n",
              "      width: 32px;\n",
              "    }\n",
              "\n",
              "    .colab-df-convert:hover {\n",
              "      background-color: #E2EBFA;\n",
              "      box-shadow: 0px 1px 2px rgba(60, 64, 67, 0.3), 0px 1px 3px 1px rgba(60, 64, 67, 0.15);\n",
              "      fill: #174EA6;\n",
              "    }\n",
              "\n",
              "    .colab-df-buttons div {\n",
              "      margin-bottom: 4px;\n",
              "    }\n",
              "\n",
              "    [theme=dark] .colab-df-convert {\n",
              "      background-color: #3B4455;\n",
              "      fill: #D2E3FC;\n",
              "    }\n",
              "\n",
              "    [theme=dark] .colab-df-convert:hover {\n",
              "      background-color: #434B5C;\n",
              "      box-shadow: 0px 1px 3px 1px rgba(0, 0, 0, 0.15);\n",
              "      filter: drop-shadow(0px 1px 2px rgba(0, 0, 0, 0.3));\n",
              "      fill: #FFFFFF;\n",
              "    }\n",
              "  </style>\n",
              "\n",
              "    <script>\n",
              "      const buttonEl =\n",
              "        document.querySelector('#df-2de7230c-baa2-4208-befb-004203774605 button.colab-df-convert');\n",
              "      buttonEl.style.display =\n",
              "        google.colab.kernel.accessAllowed ? 'block' : 'none';\n",
              "\n",
              "      async function convertToInteractive(key) {\n",
              "        const element = document.querySelector('#df-2de7230c-baa2-4208-befb-004203774605');\n",
              "        const dataTable =\n",
              "          await google.colab.kernel.invokeFunction('convertToInteractive',\n",
              "                                                    [key], {});\n",
              "        if (!dataTable) return;\n",
              "\n",
              "        const docLinkHtml = 'Like what you see? Visit the ' +\n",
              "          '<a target=\"_blank\" href=https://colab.research.google.com/notebooks/data_table.ipynb>data table notebook</a>'\n",
              "          + ' to learn more about interactive tables.';\n",
              "        element.innerHTML = '';\n",
              "        dataTable['output_type'] = 'display_data';\n",
              "        await google.colab.output.renderOutput(dataTable, element);\n",
              "        const docLink = document.createElement('div');\n",
              "        docLink.innerHTML = docLinkHtml;\n",
              "        element.appendChild(docLink);\n",
              "      }\n",
              "    </script>\n",
              "  </div>\n",
              "\n",
              "\n",
              "<div id=\"df-a3223f59-b5db-4366-a5c5-7de0c455fef6\">\n",
              "  <button class=\"colab-df-quickchart\" onclick=\"quickchart('df-a3223f59-b5db-4366-a5c5-7de0c455fef6')\"\n",
              "            title=\"Suggest charts\"\n",
              "            style=\"display:none;\">\n",
              "\n",
              "<svg xmlns=\"http://www.w3.org/2000/svg\" height=\"24px\"viewBox=\"0 0 24 24\"\n",
              "     width=\"24px\">\n",
              "    <g>\n",
              "        <path d=\"M19 3H5c-1.1 0-2 .9-2 2v14c0 1.1.9 2 2 2h14c1.1 0 2-.9 2-2V5c0-1.1-.9-2-2-2zM9 17H7v-7h2v7zm4 0h-2V7h2v10zm4 0h-2v-4h2v4z\"/>\n",
              "    </g>\n",
              "</svg>\n",
              "  </button>\n",
              "\n",
              "<style>\n",
              "  .colab-df-quickchart {\n",
              "      --bg-color: #E8F0FE;\n",
              "      --fill-color: #1967D2;\n",
              "      --hover-bg-color: #E2EBFA;\n",
              "      --hover-fill-color: #174EA6;\n",
              "      --disabled-fill-color: #AAA;\n",
              "      --disabled-bg-color: #DDD;\n",
              "  }\n",
              "\n",
              "  [theme=dark] .colab-df-quickchart {\n",
              "      --bg-color: #3B4455;\n",
              "      --fill-color: #D2E3FC;\n",
              "      --hover-bg-color: #434B5C;\n",
              "      --hover-fill-color: #FFFFFF;\n",
              "      --disabled-bg-color: #3B4455;\n",
              "      --disabled-fill-color: #666;\n",
              "  }\n",
              "\n",
              "  .colab-df-quickchart {\n",
              "    background-color: var(--bg-color);\n",
              "    border: none;\n",
              "    border-radius: 50%;\n",
              "    cursor: pointer;\n",
              "    display: none;\n",
              "    fill: var(--fill-color);\n",
              "    height: 32px;\n",
              "    padding: 0;\n",
              "    width: 32px;\n",
              "  }\n",
              "\n",
              "  .colab-df-quickchart:hover {\n",
              "    background-color: var(--hover-bg-color);\n",
              "    box-shadow: 0 1px 2px rgba(60, 64, 67, 0.3), 0 1px 3px 1px rgba(60, 64, 67, 0.15);\n",
              "    fill: var(--button-hover-fill-color);\n",
              "  }\n",
              "\n",
              "  .colab-df-quickchart-complete:disabled,\n",
              "  .colab-df-quickchart-complete:disabled:hover {\n",
              "    background-color: var(--disabled-bg-color);\n",
              "    fill: var(--disabled-fill-color);\n",
              "    box-shadow: none;\n",
              "  }\n",
              "\n",
              "  .colab-df-spinner {\n",
              "    border: 2px solid var(--fill-color);\n",
              "    border-color: transparent;\n",
              "    border-bottom-color: var(--fill-color);\n",
              "    animation:\n",
              "      spin 1s steps(1) infinite;\n",
              "  }\n",
              "\n",
              "  @keyframes spin {\n",
              "    0% {\n",
              "      border-color: transparent;\n",
              "      border-bottom-color: var(--fill-color);\n",
              "      border-left-color: var(--fill-color);\n",
              "    }\n",
              "    20% {\n",
              "      border-color: transparent;\n",
              "      border-left-color: var(--fill-color);\n",
              "      border-top-color: var(--fill-color);\n",
              "    }\n",
              "    30% {\n",
              "      border-color: transparent;\n",
              "      border-left-color: var(--fill-color);\n",
              "      border-top-color: var(--fill-color);\n",
              "      border-right-color: var(--fill-color);\n",
              "    }\n",
              "    40% {\n",
              "      border-color: transparent;\n",
              "      border-right-color: var(--fill-color);\n",
              "      border-top-color: var(--fill-color);\n",
              "    }\n",
              "    60% {\n",
              "      border-color: transparent;\n",
              "      border-right-color: var(--fill-color);\n",
              "    }\n",
              "    80% {\n",
              "      border-color: transparent;\n",
              "      border-right-color: var(--fill-color);\n",
              "      border-bottom-color: var(--fill-color);\n",
              "    }\n",
              "    90% {\n",
              "      border-color: transparent;\n",
              "      border-bottom-color: var(--fill-color);\n",
              "    }\n",
              "  }\n",
              "</style>\n",
              "\n",
              "  <script>\n",
              "    async function quickchart(key) {\n",
              "      const quickchartButtonEl =\n",
              "        document.querySelector('#' + key + ' button');\n",
              "      quickchartButtonEl.disabled = true;  // To prevent multiple clicks.\n",
              "      quickchartButtonEl.classList.add('colab-df-spinner');\n",
              "      try {\n",
              "        const charts = await google.colab.kernel.invokeFunction(\n",
              "            'suggestCharts', [key], {});\n",
              "      } catch (error) {\n",
              "        console.error('Error during call to suggestCharts:', error);\n",
              "      }\n",
              "      quickchartButtonEl.classList.remove('colab-df-spinner');\n",
              "      quickchartButtonEl.classList.add('colab-df-quickchart-complete');\n",
              "    }\n",
              "    (() => {\n",
              "      let quickchartButtonEl =\n",
              "        document.querySelector('#df-a3223f59-b5db-4366-a5c5-7de0c455fef6 button');\n",
              "      quickchartButtonEl.style.display =\n",
              "        google.colab.kernel.accessAllowed ? 'block' : 'none';\n",
              "    })();\n",
              "  </script>\n",
              "</div>\n",
              "    </div>\n",
              "  </div>\n"
            ],
            "application/vnd.google.colaboratory.intrinsic+json": {
              "type": "dataframe",
              "variable_name": "df",
              "summary": "{\n  \"name\": \"df\",\n  \"rows\": 111,\n  \"fields\": [\n    {\n      \"column\": \"id\",\n      \"properties\": {\n        \"dtype\": \"string\",\n        \"num_unique_values\": 91,\n        \"samples\": [\n          \"pBRzyeIr-cgd0UVeOpD1QQ\",\n          \"P_Ak7z8vL93mN-LUS1eOpA\",\n          \"PSBcnD_LE5nZqY0spNM59Q\"\n        ],\n        \"semantic_type\": \"\",\n        \"description\": \"\"\n      }\n    },\n    {\n      \"column\": \"alias\",\n      \"properties\": {\n        \"dtype\": \"string\",\n        \"num_unique_values\": 91,\n        \"samples\": [\n          \"tokyo-grill-sushi-and-supreme-buffet-greenville\",\n          \"dozo-sushi-and-hibachi-restaurant-greenville\",\n          \"hibachi-cafe-greer-2\"\n        ],\n        \"semantic_type\": \"\",\n        \"description\": \"\"\n      }\n    },\n    {\n      \"column\": \"name\",\n      \"properties\": {\n        \"dtype\": \"string\",\n        \"num_unique_values\": 79,\n        \"samples\": [\n          \"Sushi Shack\",\n          \"Tsunami Japanese Sushi Bar and Grill\",\n          \"Dozo Sushi & Hibachi Restaurant\"\n        ],\n        \"semantic_type\": \"\",\n        \"description\": \"\"\n      }\n    },\n    {\n      \"column\": \"image_url\",\n      \"properties\": {\n        \"dtype\": \"string\",\n        \"num_unique_values\": 91,\n        \"samples\": [\n          \"https://s3-media4.fl.yelpcdn.com/bphoto/cvmAY2Ijye_0EyGNcEWFOg/o.jpg\",\n          \"https://s3-media3.fl.yelpcdn.com/bphoto/BoUmHroBDAufuUdSN-9pwg/o.jpg\",\n          \"https://s3-media1.fl.yelpcdn.com/bphoto/EoHUil_iyiMX46KTzqXXww/o.jpg\"\n        ],\n        \"semantic_type\": \"\",\n        \"description\": \"\"\n      }\n    },\n    {\n      \"column\": \"is_closed\",\n      \"properties\": {\n        \"dtype\": \"boolean\",\n        \"num_unique_values\": 1,\n        \"samples\": [\n          false\n        ],\n        \"semantic_type\": \"\",\n        \"description\": \"\"\n      }\n    },\n    {\n      \"column\": \"url\",\n      \"properties\": {\n        \"dtype\": \"string\",\n        \"num_unique_values\": 91,\n        \"samples\": [\n          \"https://www.yelp.com/biz/tokyo-grill-sushi-and-supreme-buffet-greenville?adjust_creative=VVT4gWWHNNZxBb7gmOE6nQ&utm_campaign=yelp_api_v3&utm_medium=api_v3_business_search&utm_source=VVT4gWWHNNZxBb7gmOE6nQ\"\n        ],\n        \"semantic_type\": \"\",\n        \"description\": \"\"\n      }\n    },\n    {\n      \"column\": \"review_count\",\n      \"properties\": {\n        \"dtype\": \"number\",\n        \"std\": 125,\n        \"min\": 2,\n        \"max\": 1021,\n        \"num_unique_values\": 69,\n        \"samples\": [\n          125\n        ],\n        \"semantic_type\": \"\",\n        \"description\": \"\"\n      }\n    },\n    {\n      \"column\": \"categories\",\n      \"properties\": {\n        \"dtype\": \"object\",\n        \"semantic_type\": \"\",\n        \"description\": \"\"\n      }\n    },\n    {\n      \"column\": \"rating\",\n      \"properties\": {\n        \"dtype\": \"number\",\n        \"std\": 0.6419500900380949,\n        \"min\": 1.6,\n        \"max\": 5.0,\n        \"num_unique_values\": 25,\n        \"samples\": [\n          2.9\n        ],\n        \"semantic_type\": \"\",\n        \"description\": \"\"\n      }\n    },\n    {\n      \"column\": \"coordinates\",\n      \"properties\": {\n        \"dtype\": \"object\",\n        \"semantic_type\": \"\",\n        \"description\": \"\"\n      }\n    },\n    {\n      \"column\": \"transactions\",\n      \"properties\": {\n        \"dtype\": \"object\",\n        \"semantic_type\": \"\",\n        \"description\": \"\"\n      }\n    },\n    {\n      \"column\": \"price\",\n      \"properties\": {\n        \"dtype\": \"category\",\n        \"num_unique_values\": 3,\n        \"samples\": [\n          \"$$\"\n        ],\n        \"semantic_type\": \"\",\n        \"description\": \"\"\n      }\n    },\n    {\n      \"column\": \"location\",\n      \"properties\": {\n        \"dtype\": \"object\",\n        \"semantic_type\": \"\",\n        \"description\": \"\"\n      }\n    },\n    {\n      \"column\": \"phone\",\n      \"properties\": {\n        \"dtype\": \"string\",\n        \"num_unique_values\": 86,\n        \"samples\": [\n          \"+18648778885\"\n        ],\n        \"semantic_type\": \"\",\n        \"description\": \"\"\n      }\n    },\n    {\n      \"column\": \"display_phone\",\n      \"properties\": {\n        \"dtype\": \"string\",\n        \"num_unique_values\": 86,\n        \"samples\": [\n          \"(864) 877-8885\"\n        ],\n        \"semantic_type\": \"\",\n        \"description\": \"\"\n      }\n    },\n    {\n      \"column\": \"distance\",\n      \"properties\": {\n        \"dtype\": \"number\",\n        \"std\": 5029.855470915484,\n        \"min\": 653.0490265231333,\n        \"max\": 18437.432245844797,\n        \"num_unique_values\": 90,\n        \"samples\": [\n          8832.07822651488\n        ],\n        \"semantic_type\": \"\",\n        \"description\": \"\"\n      }\n    }\n  ]\n}"
            }
          },
          "metadata": {},
          "execution_count": 33
        }
      ]
    },
    {
      "cell_type": "markdown",
      "source": [
        "# Save the file in the directory"
      ],
      "metadata": {
        "id": "fxin8EdWGy72"
      }
    },
    {
      "cell_type": "code",
      "source": [
        "# specify the directory\n",
        "directory = '/content/drive/MyDrive/Colab Notebooks/data'\n",
        "filename = 'final_results_SC_sushi.csv.gz' # make sure to include the .csv.gz extension\n",
        "path = os.path.join(directory, filename)\n",
        "\n",
        "# ensure that the 'data' directory exists\n",
        "os.makedirs(directory, exist_ok=True)\n",
        "\n",
        "# save the dataframe as a compressed csv file (to save space)\n",
        "df.to_csv(path, compression='gzip', index=False)\n",
        "# df was defined in the previous code block: df = pd.read_json(JSON_FILE)"
      ],
      "metadata": {
        "id": "jL5efW2qG2YY"
      },
      "execution_count": 34,
      "outputs": []
    },
    {
      "cell_type": "code",
      "source": [
        "# save as JSON file\n",
        "json_file = '/content/drive/MyDrive/Colab Notebooks/credentials/yelp_api.json'\n",
        "# add data folders copied path before /final_results_SC_sushi.json\n",
        "\n",
        "# save the json as a dataframe\n",
        "df.to_json(json_file, orient='records', lines=True)"
      ],
      "metadata": {
        "id": "jyl2AU4qIjX-"
      },
      "execution_count": 35,
      "outputs": []
    },
    {
      "cell_type": "code",
      "source": [
        "# save the file as gzip\n",
        "csv_gz_file = json_file.replace('.json', '.csv.gz')\n",
        "\n",
        "# save the dataframe as a compressed csv without the index\n",
        "df.to_csv(csv_gz_file, compression='gzip',index=False)"
      ],
      "metadata": {
        "id": "8A46NfdtI_11"
      },
      "execution_count": 36,
      "outputs": []
    }
  ]
}